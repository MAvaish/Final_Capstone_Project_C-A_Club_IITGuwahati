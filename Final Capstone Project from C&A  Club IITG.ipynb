{
 "cells": [
  {
   "cell_type": "markdown",
   "id": "3a01b5ea",
   "metadata": {},
   "source": [
    "# Dynamic Pricing for Urban Parking Lots"
   ]
  },
  {
   "cell_type": "markdown",
   "id": "32fd8e98",
   "metadata": {},
   "source": [
    "### Importing Libraries"
   ]
  },
  {
   "cell_type": "code",
   "execution_count": 1,
   "id": "bcfc7684",
   "metadata": {},
   "outputs": [
    {
     "name": "stderr",
     "output_type": "stream",
     "text": [
      "This is not the real Pathway package.\n",
      "Visit https://pathway.com/developers/ to get Pathway.\n",
      "Already tried that? Visit https://pathway.com/troubleshooting/ to get help.\n",
      "Note: your platform is Windows-11-10.0.26100-SP0, your Python is CPython 3.13.1.\n"
     ]
    },
    {
     "data": {
      "text/html": [
       "    <style>\n",
       "        .bk-notebook-logo {\n",
       "            display: block;\n",
       "            width: 20px;\n",
       "            height: 20px;\n",
       "            background-image: url(data:image/png;base64,iVBORw0KGgoAAAANSUhEUgAAABQAAAAUCAYAAACNiR0NAAAABHNCSVQICAgIfAhkiAAAAAlwSFlzAAALEgAACxIB0t1+/AAAABx0RVh0U29mdHdhcmUAQWRvYmUgRmlyZXdvcmtzIENTNui8sowAAAOkSURBVDiNjZRtaJVlGMd/1/08zzln5zjP1LWcU9N0NkN8m2CYjpgQYQXqSs0I84OLIC0hkEKoPtiH3gmKoiJDU7QpLgoLjLIQCpEsNJ1vqUOdO7ppbuec5+V+rj4ctwzd8IIbbi6u+8f1539dt3A78eXC7QizUF7gyV1fD1Yqg4JWz84yffhm0qkFqBogB9rM8tZdtwVsPUhWhGcFJngGeWrPzHm5oaMmkfEg1usvLFyc8jLRqDOMru7AyC8saQr7GG7f5fvDeH7Ej8CM66nIF+8yngt6HWaKh7k49Soy9nXurCi1o3qUbS3zWfrYeQDTB/Qj6kX6Ybhw4B+bOYoLKCC9H3Nu/leUTZ1JdRWkkn2ldcCamzrcf47KKXdAJllSlxAOkRgyHsGC/zRday5Qld9DyoM4/q/rUoy/CXh3jzOu3bHUVZeU+DEn8FInkPBFlu3+nW3Nw0mk6vCDiWg8CeJaxEwuHS3+z5RgY+YBR6V1Z1nxSOfoaPa4LASWxxdNp+VWTk7+4vzaou8v8PN+xo+KY2xsw6une2frhw05CTYOmQvsEhjhWjn0bmXPjpE1+kplmmkP3suftwTubK9Vq22qKmrBhpY4jvd5afdRA3wGjFAgcnTK2s4hY0/GPNIb0nErGMCRxWOOX64Z8RAC4oCXdklmEvcL8o0BfkNK4lUg9HTl+oPlQxdNo3Mg4Nv175e/1LDGzZen30MEjRUtmXSfiTVu1kK8W4txyV6BMKlbgk3lMwYCiusNy9fVfvvwMxv8Ynl6vxoByANLTWplvuj/nF9m2+PDtt1eiHPBr1oIfhCChQMBw6Aw0UulqTKZdfVvfG7VcfIqLG9bcldL/+pdWTLxLUy8Qq38heUIjh4XlzZxzQm19lLFlr8vdQ97rjZVOLf8nclzckbcD4wxXMidpX30sFd37Fv/GtwwhzhxGVAprjbg0gCAEeIgwCZyTV2Z1REEW8O4py0wsjeloKoMr6iCY6dP92H6Vw/oTyICIthibxjm/DfN9lVz8IqtqKYLUXfoKVMVQVVJOElGjrnnUt9T9wbgp8AyYKaGlqingHZU/uG2NTZSVqwHQTWkx9hxjkpWDaCg6Ckj5qebgBVbT3V3NNXMSiWSDdGV3hrtzla7J+duwPOToIg42ChPQOQjspnSlp1V+Gjdged7+8UN5CRAV7a5EdFNwCjEaBR27b3W890TE7g24NAP/mMDXRWrGoFPQI9ls/MWO2dWFAar/xcOIImbbpA3zgAAAABJRU5ErkJggg==);\n",
       "        }\n",
       "    </style>\n",
       "    <div>\n",
       "        <a href=\"https://bokeh.org\" target=\"_blank\" class=\"bk-notebook-logo\"></a>\n",
       "        <span id=\"cd618086-f992-45d3-920c-a5662b855af6\">Loading BokehJS ...</span>\n",
       "    </div>\n"
      ]
     },
     "metadata": {},
     "output_type": "display_data"
    },
    {
     "data": {
      "application/javascript": "'use strict';\n(function(root) {\n  function now() {\n    return new Date();\n  }\n\n  const force = true;\n\n  if (typeof root._bokeh_onload_callbacks === \"undefined\" || force === true) {\n    root._bokeh_onload_callbacks = [];\n    root._bokeh_is_loading = undefined;\n  }\n\nconst JS_MIME_TYPE = 'application/javascript';\n  const HTML_MIME_TYPE = 'text/html';\n  const EXEC_MIME_TYPE = 'application/vnd.bokehjs_exec.v0+json';\n  const CLASS_NAME = 'output_bokeh rendered_html';\n\n  /**\n   * Render data to the DOM node\n   */\n  function render(props, node) {\n    const script = document.createElement(\"script\");\n    node.appendChild(script);\n  }\n\n  /**\n   * Handle when an output is cleared or removed\n   */\n  function handleClearOutput(event, handle) {\n    function drop(id) {\n      const view = Bokeh.index.get_by_id(id)\n      if (view != null) {\n        view.model.document.clear()\n        Bokeh.index.delete(view)\n      }\n    }\n\n    const cell = handle.cell;\n\n    const id = cell.output_area._bokeh_element_id;\n    const server_id = cell.output_area._bokeh_server_id;\n\n    // Clean up Bokeh references\n    if (id != null) {\n      drop(id)\n    }\n\n    if (server_id !== undefined) {\n      // Clean up Bokeh references\n      const cmd_clean = \"from bokeh.io.state import curstate; print(curstate().uuid_to_server['\" + server_id + \"'].get_sessions()[0].document.roots[0]._id)\";\n      cell.notebook.kernel.execute(cmd_clean, {\n        iopub: {\n          output: function(msg) {\n            const id = msg.content.text.trim()\n            drop(id)\n          }\n        }\n      });\n      // Destroy server and session\n      const cmd_destroy = \"import bokeh.io.notebook as ion; ion.destroy_server('\" + server_id + \"')\";\n      cell.notebook.kernel.execute(cmd_destroy);\n    }\n  }\n\n  /**\n   * Handle when a new output is added\n   */\n  function handleAddOutput(event, handle) {\n    const output_area = handle.output_area;\n    const output = handle.output;\n\n    // limit handleAddOutput to display_data with EXEC_MIME_TYPE content only\n    if ((output.output_type != \"display_data\") || (!Object.prototype.hasOwnProperty.call(output.data, EXEC_MIME_TYPE))) {\n      return\n    }\n\n    const toinsert = output_area.element.find(\".\" + CLASS_NAME.split(' ')[0]);\n\n    if (output.metadata[EXEC_MIME_TYPE][\"id\"] !== undefined) {\n      toinsert[toinsert.length - 1].firstChild.textContent = output.data[JS_MIME_TYPE];\n      // store reference to embed id on output_area\n      output_area._bokeh_element_id = output.metadata[EXEC_MIME_TYPE][\"id\"];\n    }\n    if (output.metadata[EXEC_MIME_TYPE][\"server_id\"] !== undefined) {\n      const bk_div = document.createElement(\"div\");\n      bk_div.innerHTML = output.data[HTML_MIME_TYPE];\n      const script_attrs = bk_div.children[0].attributes;\n      for (let i = 0; i < script_attrs.length; i++) {\n        toinsert[toinsert.length - 1].firstChild.setAttribute(script_attrs[i].name, script_attrs[i].value);\n        toinsert[toinsert.length - 1].firstChild.textContent = bk_div.children[0].textContent\n      }\n      // store reference to server id on output_area\n      output_area._bokeh_server_id = output.metadata[EXEC_MIME_TYPE][\"server_id\"];\n    }\n  }\n\n  function register_renderer(events, OutputArea) {\n\n    function append_mime(data, metadata, element) {\n      // create a DOM node to render to\n      const toinsert = this.create_output_subarea(\n        metadata,\n        CLASS_NAME,\n        EXEC_MIME_TYPE\n      );\n      this.keyboard_manager.register_events(toinsert);\n      // Render to node\n      const props = {data: data, metadata: metadata[EXEC_MIME_TYPE]};\n      render(props, toinsert[toinsert.length - 1]);\n      element.append(toinsert);\n      return toinsert\n    }\n\n    /* Handle when an output is cleared or removed */\n    events.on('clear_output.CodeCell', handleClearOutput);\n    events.on('delete.Cell', handleClearOutput);\n\n    /* Handle when a new output is added */\n    events.on('output_added.OutputArea', handleAddOutput);\n\n    /**\n     * Register the mime type and append_mime function with output_area\n     */\n    OutputArea.prototype.register_mime_type(EXEC_MIME_TYPE, append_mime, {\n      /* Is output safe? */\n      safe: true,\n      /* Index of renderer in `output_area.display_order` */\n      index: 0\n    });\n  }\n\n  // register the mime type if in Jupyter Notebook environment and previously unregistered\n  if (root.Jupyter !== undefined) {\n    const events = require('base/js/events');\n    const OutputArea = require('notebook/js/outputarea').OutputArea;\n\n    if (OutputArea.prototype.mime_types().indexOf(EXEC_MIME_TYPE) == -1) {\n      register_renderer(events, OutputArea);\n    }\n  }\n  if (typeof (root._bokeh_timeout) === \"undefined\" || force === true) {\n    root._bokeh_timeout = Date.now() + 5000;\n    root._bokeh_failed_load = false;\n  }\n\n  const NB_LOAD_WARNING = {'data': {'text/html':\n     \"<div style='background-color: #fdd'>\\n\"+\n     \"<p>\\n\"+\n     \"BokehJS does not appear to have successfully loaded. If loading BokehJS from CDN, this \\n\"+\n     \"may be due to a slow or bad network connection. Possible fixes:\\n\"+\n     \"</p>\\n\"+\n     \"<ul>\\n\"+\n     \"<li>re-rerun `output_notebook()` to attempt to load from CDN again, or</li>\\n\"+\n     \"<li>use INLINE resources instead, as so:</li>\\n\"+\n     \"</ul>\\n\"+\n     \"<code>\\n\"+\n     \"from bokeh.resources import INLINE\\n\"+\n     \"output_notebook(resources=INLINE)\\n\"+\n     \"</code>\\n\"+\n     \"</div>\"}};\n\n  function display_loaded(error = null) {\n    const el = document.getElementById(\"cd618086-f992-45d3-920c-a5662b855af6\");\n    if (el != null) {\n      const html = (() => {\n        if (typeof root.Bokeh === \"undefined\") {\n          if (error == null) {\n            return \"BokehJS is loading ...\";\n          } else {\n            return \"BokehJS failed to load.\";\n          }\n        } else {\n          const prefix = `BokehJS ${root.Bokeh.version}`;\n          if (error == null) {\n            return `${prefix} successfully loaded.`;\n          } else {\n            return `${prefix} <b>encountered errors</b> while loading and may not function as expected.`;\n          }\n        }\n      })();\n      el.innerHTML = html;\n\n      if (error != null) {\n        const wrapper = document.createElement(\"div\");\n        wrapper.style.overflow = \"auto\";\n        wrapper.style.height = \"5em\";\n        wrapper.style.resize = \"vertical\";\n        const content = document.createElement(\"div\");\n        content.style.fontFamily = \"monospace\";\n        content.style.whiteSpace = \"pre-wrap\";\n        content.style.backgroundColor = \"rgb(255, 221, 221)\";\n        content.textContent = error.stack ?? error.toString();\n        wrapper.append(content);\n        el.append(wrapper);\n      }\n    } else if (Date.now() < root._bokeh_timeout) {\n      setTimeout(() => display_loaded(error), 100);\n    }\n  }\n\n  function run_callbacks() {\n    try {\n      root._bokeh_onload_callbacks.forEach(function(callback) {\n        if (callback != null)\n          callback();\n      });\n    } finally {\n      delete root._bokeh_onload_callbacks\n    }\n    console.debug(\"Bokeh: all callbacks have finished\");\n  }\n\n  function load_libs(css_urls, js_urls, callback) {\n    if (css_urls == null) css_urls = [];\n    if (js_urls == null) js_urls = [];\n\n    root._bokeh_onload_callbacks.push(callback);\n    if (root._bokeh_is_loading > 0) {\n      console.debug(\"Bokeh: BokehJS is being loaded, scheduling callback at\", now());\n      return null;\n    }\n    if (js_urls == null || js_urls.length === 0) {\n      run_callbacks();\n      return null;\n    }\n    console.debug(\"Bokeh: BokehJS not loaded, scheduling load and callback at\", now());\n    root._bokeh_is_loading = css_urls.length + js_urls.length;\n\n    function on_load() {\n      root._bokeh_is_loading--;\n      if (root._bokeh_is_loading === 0) {\n        console.debug(\"Bokeh: all BokehJS libraries/stylesheets loaded\");\n        run_callbacks()\n      }\n    }\n\n    function on_error(url) {\n      console.error(\"failed to load \" + url);\n    }\n\n    for (let i = 0; i < css_urls.length; i++) {\n      const url = css_urls[i];\n      const element = document.createElement(\"link\");\n      element.onload = on_load;\n      element.onerror = on_error.bind(null, url);\n      element.rel = \"stylesheet\";\n      element.type = \"text/css\";\n      element.href = url;\n      console.debug(\"Bokeh: injecting link tag for BokehJS stylesheet: \", url);\n      document.body.appendChild(element);\n    }\n\n    for (let i = 0; i < js_urls.length; i++) {\n      const url = js_urls[i];\n      const element = document.createElement('script');\n      element.onload = on_load;\n      element.onerror = on_error.bind(null, url);\n      element.async = false;\n      element.src = url;\n      console.debug(\"Bokeh: injecting script tag for BokehJS library: \", url);\n      document.head.appendChild(element);\n    }\n  };\n\n  function inject_raw_css(css) {\n    const element = document.createElement(\"style\");\n    element.appendChild(document.createTextNode(css));\n    document.body.appendChild(element);\n  }\n\n  const js_urls = [\"https://cdn.bokeh.org/bokeh/release/bokeh-3.7.3.min.js\", \"https://cdn.bokeh.org/bokeh/release/bokeh-gl-3.7.3.min.js\", \"https://cdn.bokeh.org/bokeh/release/bokeh-widgets-3.7.3.min.js\", \"https://cdn.bokeh.org/bokeh/release/bokeh-tables-3.7.3.min.js\", \"https://cdn.bokeh.org/bokeh/release/bokeh-mathjax-3.7.3.min.js\"];\n  const css_urls = [];\n\n  const inline_js = [    function(Bokeh) {\n      Bokeh.set_log_level(\"info\");\n    },\nfunction(Bokeh) {\n    }\n  ];\n\n  function run_inline_js() {\n    if (root.Bokeh !== undefined || force === true) {\n      try {\n            for (let i = 0; i < inline_js.length; i++) {\n      inline_js[i].call(root, root.Bokeh);\n    }\n\n      } catch (error) {display_loaded(error);throw error;\n      }if (force === true) {\n        display_loaded();\n      }} else if (Date.now() < root._bokeh_timeout) {\n      setTimeout(run_inline_js, 100);\n    } else if (!root._bokeh_failed_load) {\n      console.log(\"Bokeh: BokehJS failed to load within specified timeout.\");\n      root._bokeh_failed_load = true;\n    } else if (force !== true) {\n      const cell = $(document.getElementById(\"cd618086-f992-45d3-920c-a5662b855af6\")).parents('.cell').data().cell;\n      cell.output_area.append_execute_result(NB_LOAD_WARNING)\n    }\n  }\n\n  if (root._bokeh_is_loading === 0) {\n    console.debug(\"Bokeh: BokehJS loaded, going straight to plotting\");\n    run_inline_js();\n  } else {\n    load_libs(css_urls, js_urls, function() {\n      console.debug(\"Bokeh: BokehJS plotting callback run at\", now());\n      run_inline_js();\n    });\n  }\n}(window));",
      "application/vnd.bokehjs_load.v0+json": ""
     },
     "metadata": {},
     "output_type": "display_data"
    }
   ],
   "source": [
    "import pandas as pd\n",
    "import numpy as np\n",
    "import pathway as pw\n",
    "from bokeh.plotting import figure, show, output_notebook # Import output_notebook\n",
    "\n",
    "# Configure Bokeh to output to the notebook\n",
    "output_notebook()"
   ]
  },
  {
   "cell_type": "markdown",
   "id": "c3cc85ba",
   "metadata": {},
   "source": [
    "### 📊 Loading & Exploring Data"
   ]
  },
  {
   "cell_type": "code",
   "execution_count": 2,
   "id": "0e303733",
   "metadata": {},
   "outputs": [
    {
     "name": "stdout",
     "output_type": "stream",
     "text": [
      "   ID SystemCodeNumber  Capacity   Latitude  Longitude  Occupancy VehicleType  \\\n",
      "0   0      BHMBCCMKT01       577  26.144536  91.736172         61         car   \n",
      "1   1      BHMBCCMKT01       577  26.144536  91.736172         64         car   \n",
      "2   2      BHMBCCMKT01       577  26.144536  91.736172         80         car   \n",
      "3   3      BHMBCCMKT01       577  26.144536  91.736172        107         car   \n",
      "4   4      BHMBCCMKT01       577  26.144536  91.736172        150        bike   \n",
      "\n",
      "  TrafficConditionNearby  QueueLength  IsSpecialDay LastUpdatedDate  \\\n",
      "0                    low            1             0      04-10-2016   \n",
      "1                    low            1             0      04-10-2016   \n",
      "2                    low            2             0      04-10-2016   \n",
      "3                    low            2             0      04-10-2016   \n",
      "4                    low            2             0      04-10-2016   \n",
      "\n",
      "  LastUpdatedTime  \n",
      "0        07:59:00  \n",
      "1        08:25:00  \n",
      "2        08:59:00  \n",
      "3        09:32:00  \n",
      "4        09:59:00  \n",
      "\n",
      "Statistics:\n",
      "                 ID      Capacity      Latitude     Longitude     Occupancy  \\\n",
      "count  18368.000000  18368.000000  18368.000000  18368.000000  18368.000000   \n",
      "mean    9183.500000   1605.214286     25.706547     90.751170    731.084059   \n",
      "std     5302.529208   1131.153886      1.582749      3.536636    621.164982   \n",
      "min        0.000000    387.000000     20.000035     78.000003      2.000000   \n",
      "25%     4591.750000    577.000000     26.140048     91.727995    322.000000   \n",
      "50%     9183.500000   1261.000000     26.147482     91.729511    568.000000   \n",
      "75%    13775.250000   2803.000000     26.147541     91.736172    976.000000   \n",
      "max    18367.000000   3883.000000     26.150504     91.740994   3499.000000   \n",
      "\n",
      "        QueueLength  IsSpecialDay  \n",
      "count  18368.000000  18368.000000  \n",
      "mean       4.587925      0.150915  \n",
      "std        2.580062      0.357975  \n",
      "min        0.000000      0.000000  \n",
      "25%        2.000000      0.000000  \n",
      "50%        4.000000      0.000000  \n",
      "75%        6.000000      0.000000  \n",
      "max       15.000000      1.000000  \n"
     ]
    }
   ],
   "source": [
    "# Load data\n",
    "df = pd.read_csv(\"C:\\\\Users\\\\91739\\\\Downloads\\\\dataset.csv\")\n",
    "\n",
    "# Check first 5 rows\n",
    "print(df.head())\n",
    "\n",
    "# Basic stats\n",
    "print(\"\\nStatistics:\")\n",
    "print(df.describe())"
   ]
  },
  {
   "cell_type": "markdown",
   "id": "845c313a",
   "metadata": {},
   "source": [
    "## 💰 Pricing Models\n",
    "### (1) Baseline Linear Model\n"
   ]
  },
  {
   "cell_type": "code",
   "execution_count": 3,
   "id": "b90a0ad9",
   "metadata": {},
   "outputs": [],
   "source": [
    "def baseline_linear_model(prev_price, occupancy, capacity, alpha=0.5):\n",
    "    occupancy_rate = occupancy / capacity\n",
    "    new_price = prev_price + (alpha * occupancy_rate)\n",
    "    return max(new_price, 10)"
   ]
  },
  {
   "cell_type": "code",
   "execution_count": 4,
   "id": "7af4f103",
   "metadata": {},
   "outputs": [
    {
     "name": "stdout",
     "output_type": "stream",
     "text": [
      "10.25\n"
     ]
    }
   ],
   "source": [
    "print(baseline_linear_model(10, 50, 100))"
   ]
  },
  {
   "cell_type": "markdown",
   "id": "0fcf4a62",
   "metadata": {},
   "source": [
    "### 📊 Visualizing the Baseline Linear Model"
   ]
  },
  {
   "cell_type": "code",
   "execution_count": 5,
   "id": "f1a1a288",
   "metadata": {},
   "outputs": [
    {
     "data": {
      "text/html": [
       "\n",
       "  <div id=\"f7cd4b0d-c802-4d3d-a1d5-1e1fb6ca6e63\" data-root-id=\"p1006\" style=\"display: contents;\"></div>\n"
      ]
     },
     "metadata": {},
     "output_type": "display_data"
    },
    {
     "data": {
      "application/javascript": "(function(root) {\n  function embed_document(root) {\n  const docs_json = {\"c227b87c-037c-475c-944b-d52caaf9af60\":{\"version\":\"3.7.3\",\"title\":\"Bokeh Application\",\"roots\":[{\"type\":\"object\",\"name\":\"Figure\",\"id\":\"p1006\",\"attributes\":{\"width\":800,\"height\":400,\"x_range\":{\"type\":\"object\",\"name\":\"DataRange1d\",\"id\":\"p1007\"},\"y_range\":{\"type\":\"object\",\"name\":\"DataRange1d\",\"id\":\"p1008\"},\"x_scale\":{\"type\":\"object\",\"name\":\"LinearScale\",\"id\":\"p1016\"},\"y_scale\":{\"type\":\"object\",\"name\":\"LinearScale\",\"id\":\"p1017\"},\"title\":{\"type\":\"object\",\"name\":\"Title\",\"id\":\"p1009\",\"attributes\":{\"text\":\"Baseline Linear Model: Price vs. Occupancy Rate\"}},\"renderers\":[{\"type\":\"object\",\"name\":\"GlyphRenderer\",\"id\":\"p1047\",\"attributes\":{\"data_source\":{\"type\":\"object\",\"name\":\"ColumnDataSource\",\"id\":\"p1003\",\"attributes\":{\"selected\":{\"type\":\"object\",\"name\":\"Selection\",\"id\":\"p1004\",\"attributes\":{\"indices\":[],\"line_indices\":[]}},\"selection_policy\":{\"type\":\"object\",\"name\":\"UnionRenderers\",\"id\":\"p1005\"},\"data\":{\"type\":\"map\",\"entries\":[[\"occupancy_rate\",{\"type\":\"ndarray\",\"array\":{\"type\":\"bytes\",\"data\":\"AAAAAAAAAAB/pUCtXynwP3+lQK1fKQBAPvjggw8+CEB/pUCtXykQQN/OkJi3MxRAPvjggw8+GECfITFvZ0gcQH+lQK1fKSBAL7rooosuIkDfzpCYtzMkQI/jOI7jOCZAPvjggw8+KEDvDIl5O0MqQJ8hMW9nSCxATjbZZJNNLkB/pUCtXykwQNevFKj1KzFAL7rooosuMkCHxLydITEzQN/OkJi3MzRANtlkk002NUCP4ziO4zg2QOftDIl5OzdAPvjggw8+OECWArV+pUA5QO8MiXk7QzpARxdddNFFO0CfITFvZ0g8QPYrBWr9Sj1ATjbZZJNNPkCmQK1fKVA/QH+lQK1fKUBAq6qqqqqqQEDXrxSo9StBQAO1fqVArUFAL7rooosuQkBbv1Kg1q9CQIfEvJ0hMUNAs8kmm2yyQ0DfzpCYtzNEQAvU+pUCtURANtlkk002RUBj3s6QmLdFQI/jOI7jOEZAu+iiiy66RkDn7QyJeTtHQBPzdobEvEdAPvjggw8+SEBq/UqBWr9IQJYCtX6lQElAwwcffPDBSUDvDIl5O0NKQBoS83aGxEpARxdddNFFS0ByHMdxHMdLQJ8hMW9nSExAyiabbLLJTED2KwVq/UpNQCIxb2dIzE1ATjbZZJNNTkB7O0Ni3s5OQKZArV8pUE9A00UXXXTRT0B/pUCtXylQQBWo9SsFalBAq6qqqqqqUEBBrV8pUOtQQNevFKj1K1FAbbLJJptsUUADtX6lQK1RQJm3MyTm7VFAL7rooosuUkDFvJ0hMW9SQFu/UqDWr1JA8cEHH3zwUkCHxLydITFTQB3HcRzHcVNAs8kmm2yyU0BJzNsZEvNTQN/OkJi3M1RAddFFF110VEAL1PqVArVUQKHWrxSo9VRANtlkk002VUDN2xkS83ZVQGPezpCYt1VA+eCDDz74VUCP4ziO4zhWQCXm7QyJeVZAu+iiiy66VkBQ61cK1PpWQOftDIl5O1dAfPDBBx98V0AT83aGxLxXQKn1KwVq/VdAPvjggw8+WEDV+pUCtX5YQGr9SoFav1hAAAAAAAAAWUA=\"},\"shape\":[100],\"dtype\":\"float64\",\"order\":\"little\"}],[\"price\",[10.0,10.005050505050505,10.01010101010101,10.015151515151516,10.02020202020202,10.025252525252526,10.030303030303031,10.035353535353535,10.04040404040404,10.045454545454545,10.05050505050505,10.055555555555555,10.06060606060606,10.065656565656566,10.070707070707071,10.075757575757576,10.080808080808081,10.085858585858587,10.090909090909092,10.095959595959595,10.1010101010101,10.106060606060606,10.11111111111111,10.116161616161616,10.121212121212121,10.126262626262626,10.131313131313131,10.136363636363637,10.141414141414142,10.146464646464647,10.151515151515152,10.156565656565657,10.16161616161616,10.166666666666666,10.171717171717171,10.176767676767676,10.181818181818182,10.186868686868687,10.191919191919192,10.196969696969697,10.202020202020202,10.207070707070708,10.212121212121213,10.217171717171718,10.222222222222221,10.227272727272727,10.232323232323232,10.237373737373737,10.242424242424242,10.247474747474747,10.252525252525253,10.257575757575758,10.262626262626263,10.267676767676768,10.272727272727273,10.277777777777779,10.282828282828284,10.287878787878787,10.292929292929292,10.297979797979798,10.303030303030303,10.308080808080808,10.313131313131313,10.318181818181818,10.323232323232324,10.328282828282829,10.333333333333334,10.33838383838384,10.343434343434344,10.348484848484848,10.353535353535353,10.358585858585858,10.363636363636363,10.368686868686869,10.373737373737374,10.378787878787879,10.383838383838384,10.38888888888889,10.393939393939394,10.3989898989899,10.404040404040405,10.409090909090908,10.414141414141413,10.419191919191919,10.424242424242424,10.429292929292929,10.434343434343434,10.43939393939394,10.444444444444445,10.44949494949495,10.454545454545455,10.45959595959596,10.464646464646465,10.469696969696969,10.474747474747474,10.47979797979798,10.484848484848484,10.48989898989899,10.494949494949495,10.5]]]}}},\"view\":{\"type\":\"object\",\"name\":\"CDSView\",\"id\":\"p1048\",\"attributes\":{\"filter\":{\"type\":\"object\",\"name\":\"AllIndices\",\"id\":\"p1049\"}}},\"glyph\":{\"type\":\"object\",\"name\":\"Line\",\"id\":\"p1044\",\"attributes\":{\"x\":{\"type\":\"field\",\"field\":\"occupancy_rate\"},\"y\":{\"type\":\"field\",\"field\":\"price\"},\"line_color\":\"#1f77b4\",\"line_width\":2}},\"nonselection_glyph\":{\"type\":\"object\",\"name\":\"Line\",\"id\":\"p1045\",\"attributes\":{\"x\":{\"type\":\"field\",\"field\":\"occupancy_rate\"},\"y\":{\"type\":\"field\",\"field\":\"price\"},\"line_color\":\"#1f77b4\",\"line_alpha\":0.1,\"line_width\":2}},\"muted_glyph\":{\"type\":\"object\",\"name\":\"Line\",\"id\":\"p1046\",\"attributes\":{\"x\":{\"type\":\"field\",\"field\":\"occupancy_rate\"},\"y\":{\"type\":\"field\",\"field\":\"price\"},\"line_color\":\"#1f77b4\",\"line_alpha\":0.2,\"line_width\":2}}}}],\"toolbar\":{\"type\":\"object\",\"name\":\"Toolbar\",\"id\":\"p1015\",\"attributes\":{\"tools\":[{\"type\":\"object\",\"name\":\"PanTool\",\"id\":\"p1028\"},{\"type\":\"object\",\"name\":\"WheelZoomTool\",\"id\":\"p1029\",\"attributes\":{\"renderers\":\"auto\"}},{\"type\":\"object\",\"name\":\"BoxZoomTool\",\"id\":\"p1030\",\"attributes\":{\"dimensions\":\"both\",\"overlay\":{\"type\":\"object\",\"name\":\"BoxAnnotation\",\"id\":\"p1031\",\"attributes\":{\"syncable\":false,\"line_color\":\"black\",\"line_alpha\":1.0,\"line_width\":2,\"line_dash\":[4,4],\"fill_color\":\"lightgrey\",\"fill_alpha\":0.5,\"level\":\"overlay\",\"visible\":false,\"left\":{\"type\":\"number\",\"value\":\"nan\"},\"right\":{\"type\":\"number\",\"value\":\"nan\"},\"top\":{\"type\":\"number\",\"value\":\"nan\"},\"bottom\":{\"type\":\"number\",\"value\":\"nan\"},\"left_units\":\"canvas\",\"right_units\":\"canvas\",\"top_units\":\"canvas\",\"bottom_units\":\"canvas\",\"handles\":{\"type\":\"object\",\"name\":\"BoxInteractionHandles\",\"id\":\"p1037\",\"attributes\":{\"all\":{\"type\":\"object\",\"name\":\"AreaVisuals\",\"id\":\"p1036\",\"attributes\":{\"fill_color\":\"white\",\"hover_fill_color\":\"lightgray\"}}}}}}}},{\"type\":\"object\",\"name\":\"SaveTool\",\"id\":\"p1038\"},{\"type\":\"object\",\"name\":\"ResetTool\",\"id\":\"p1039\"},{\"type\":\"object\",\"name\":\"HelpTool\",\"id\":\"p1040\"}]}},\"left\":[{\"type\":\"object\",\"name\":\"LinearAxis\",\"id\":\"p1023\",\"attributes\":{\"ticker\":{\"type\":\"object\",\"name\":\"BasicTicker\",\"id\":\"p1024\",\"attributes\":{\"mantissas\":[1,2,5]}},\"formatter\":{\"type\":\"object\",\"name\":\"BasicTickFormatter\",\"id\":\"p1025\"},\"axis_label\":\"Price ($)\",\"major_label_policy\":{\"type\":\"object\",\"name\":\"AllLabels\",\"id\":\"p1026\"}}}],\"below\":[{\"type\":\"object\",\"name\":\"LinearAxis\",\"id\":\"p1018\",\"attributes\":{\"ticker\":{\"type\":\"object\",\"name\":\"BasicTicker\",\"id\":\"p1019\",\"attributes\":{\"mantissas\":[1,2,5]}},\"formatter\":{\"type\":\"object\",\"name\":\"BasicTickFormatter\",\"id\":\"p1020\"},\"axis_label\":\"Occupancy Rate (%)\",\"major_label_policy\":{\"type\":\"object\",\"name\":\"AllLabels\",\"id\":\"p1021\"}}}],\"center\":[{\"type\":\"object\",\"name\":\"Grid\",\"id\":\"p1022\",\"attributes\":{\"axis\":{\"id\":\"p1018\"}}},{\"type\":\"object\",\"name\":\"Grid\",\"id\":\"p1027\",\"attributes\":{\"dimension\":1,\"axis\":{\"id\":\"p1023\"}}}]}}]}};\n  const render_items = [{\"docid\":\"c227b87c-037c-475c-944b-d52caaf9af60\",\"roots\":{\"p1006\":\"f7cd4b0d-c802-4d3d-a1d5-1e1fb6ca6e63\"},\"root_ids\":[\"p1006\"]}];\n  void root.Bokeh.embed.embed_items_notebook(docs_json, render_items);\n  }\n  if (root.Bokeh !== undefined) {\n    embed_document(root);\n  } else {\n    let attempts = 0;\n    const timer = setInterval(function(root) {\n      if (root.Bokeh !== undefined) {\n        clearInterval(timer);\n        embed_document(root);\n      } else {\n        attempts++;\n        if (attempts > 100) {\n          clearInterval(timer);\n          console.log(\"Bokeh: ERROR: Unable to run BokehJS code because BokehJS library is missing\");\n        }\n      }\n    }, 10, root)\n  }\n})(window);",
      "application/vnd.bokehjs_exec.v0+json": ""
     },
     "metadata": {
      "application/vnd.bokehjs_exec.v0+json": {
       "id": "p1006"
      }
     },
     "output_type": "display_data"
    }
   ],
   "source": [
    "from bokeh.plotting import figure, show\n",
    "from bokeh.models import ColumnDataSource\n",
    "import numpy as np\n",
    "\n",
    "# Define a range of occupancy rates from 0 to 1 (0% to 100%)\n",
    "occupancy_rates = np.linspace(0, 1, 100)\n",
    "\n",
    "# Assume a previous price (e.g., 10) for demonstration\n",
    "prev_price = 10\n",
    "capacity = 100 # Assume a capacity to calculate occupancy\n",
    "\n",
    "# Calculate the resulting price for each occupancy rate using the baseline model\n",
    "# The baseline_linear_model expects occupancy and capacity, so we'll calculate occupancy from the rate\n",
    "baseline_prices = [\n",
    "    baseline_linear_model(prev_price, rate * capacity, capacity)\n",
    "    for rate in occupancy_rates\n",
    "]\n",
    "\n",
    "# Create a ColumnDataSource\n",
    "source = ColumnDataSource(data=dict(occupancy_rate=occupancy_rates * 100,  # Convert to percentage for plotting\n",
    "                                     price=baseline_prices))\n",
    "\n",
    "# Create a plot\n",
    "p = figure(title=\"Baseline Linear Model: Price vs. Occupancy Rate\",\n",
    "           x_axis_label=\"Occupancy Rate (%)\",\n",
    "           y_axis_label=\"Price ($)\",\n",
    "           width=800, height=400)\n",
    "\n",
    "# Add a line glyph\n",
    "p.line(x='occupancy_rate', y='price', source=source, line_width=2)\n",
    "\n",
    "show(p)"
   ]
  },
  {
   "cell_type": "markdown",
   "id": "547eb91a",
   "metadata": {},
   "source": [
    "## (2) Demand-Based Model"
   ]
  },
  {
   "cell_type": "code",
   "execution_count": 6,
   "id": "988ae4f8",
   "metadata": {},
   "outputs": [],
   "source": [
    "def demand_based_model(base_price, occupancy, capacity, queue_length, traffic, is_special_day, vehicle_type):\n",
    "    # Weights (tune these based on your data)\n",
    "    weights = {\n",
    "        'occupancy': 0.4,\n",
    "        'queue': 0.3,\n",
    "        'traffic': {'low': -0.2, 'medium': 0, 'high': 0.3, 'average': 0.1}, # Added 'average'\n",
    "        'special_day': 0.5,\n",
    "        'vehicle': {'car': 0, 'bike': -0.1, 'truck': 0.2, 'cycle': -0.05} # Added 'cycle'\n",
    "    }\n",
    "\n",
    "    demand = (\n",
    "        weights['occupancy'] * (occupancy / capacity) +\n",
    "        weights['queue'] * queue_length +\n",
    "        weights['traffic'][traffic] +\n",
    "        weights['special_day'] * is_special_day +\n",
    "        weights['vehicle'][vehicle_type]\n",
    "    )\n",
    "\n",
    "    normalized_demand = max(0, min(1, demand))\n",
    "    new_price = base_price * (1 + normalized_demand)\n",
    "    return max(base_price * 0.5, min(new_price, base_price * 2))"
   ]
  },
  {
   "cell_type": "code",
   "execution_count": 7,
   "id": "3f7d855b",
   "metadata": {},
   "outputs": [
    {
     "name": "stdout",
     "output_type": "stream",
     "text": [
      "20\n"
     ]
    }
   ],
   "source": [
    "test_price = demand_based_model(\n",
    "    base_price=10,\n",
    "    occupancy=80,\n",
    "    capacity=100,\n",
    "    queue_length=5,\n",
    "    traffic=\"high\",\n",
    "    is_special_day=1,\n",
    "    vehicle_type=\"truck\"\n",
    ")\n",
    "print(test_price)"
   ]
  },
  {
   "cell_type": "markdown",
   "id": "031cc3d9",
   "metadata": {},
   "source": [
    "## ⚡ Real-Time Simulation"
   ]
  },
  {
   "cell_type": "code",
   "execution_count": 8,
   "id": "11677d1b",
   "metadata": {},
   "outputs": [
    {
     "name": "stdout",
     "output_type": "stream",
     "text": [
      "\n",
      "First 5 priced records:\n",
      "   ID SystemCodeNumber  Capacity   Latitude  Longitude  Occupancy VehicleType  \\\n",
      "0   0      BHMBCCMKT01       577  26.144536  91.736172         61         car   \n",
      "1   1      BHMBCCMKT01       577  26.144536  91.736172         64         car   \n",
      "2   2      BHMBCCMKT01       577  26.144536  91.736172         80         car   \n",
      "3   3      BHMBCCMKT01       577  26.144536  91.736172        107         car   \n",
      "4   4      BHMBCCMKT01       577  26.144536  91.736172        150        bike   \n",
      "\n",
      "  TrafficConditionNearby  QueueLength  IsSpecialDay LastUpdatedDate  \\\n",
      "0                    low            1             0      04-10-2016   \n",
      "1                    low            1             0      04-10-2016   \n",
      "2                    low            2             0      04-10-2016   \n",
      "3                    low            2             0      04-10-2016   \n",
      "4                    low            2             0      04-10-2016   \n",
      "\n",
      "  LastUpdatedTime      price  \n",
      "0        07:59:00  11.422877  \n",
      "1        08:25:00  11.443674  \n",
      "2        08:59:00  14.554593  \n",
      "3        09:32:00  14.741768  \n",
      "4        09:59:00  14.039861  \n"
     ]
    }
   ],
   "source": [
    "# Compute prices directly using pandas apply as a workaround for Pathway output issues\n",
    "results_df = df.copy() # Create a copy to avoid modifying the original DataFrame\n",
    "\n",
    "results_df['price'] = results_df.apply(\n",
    "    lambda row: demand_based_model(\n",
    "        base_price=10,\n",
    "        occupancy=row['Occupancy'],\n",
    "        capacity=row['Capacity'],\n",
    "        queue_length=row['QueueLength'],\n",
    "        traffic=row['TrafficConditionNearby'],\n",
    "        is_special_day=row['IsSpecialDay'],\n",
    "        vehicle_type=row['VehicleType']\n",
    "    ),\n",
    "    axis=1 # Apply the function row-wise\n",
    ")\n",
    "\n",
    "\n",
    "# Convert to Pandas DataFrame for visualization - Data is already in pandas\n",
    "# pw.outputs.add_output(\"priced_data\", priced_table)\n",
    "# pw.run(loop=False) # Run the Pathway computation\n",
    "\n",
    "# results_df = pw.outputs.get_output(\"priced_data\").to_pandas()\n",
    "\n",
    "print(\"\\nFirst 5 priced records:\")\n",
    "print(results_df.head())"
   ]
  },
  {
   "cell_type": "markdown",
   "id": "ec5a2908",
   "metadata": {},
   "source": [
    "### 📊 Visualizing Price vs. Occupancy"
   ]
  },
  {
   "cell_type": "code",
   "execution_count": null,
   "metadata": {},
   "outputs": [],
   "source": []
  }
 ],
 "metadata": {
  "kernelspec": {
   "display_name": "Python 3",
   "language": "python",
   "name": "python3"
  },
  "language_info": {
   "codemirror_mode": {
    "name": "ipython",
    "version": 3
   },
   "file_extension": ".py",
   "mimetype": "text/x-python",
   "name": "python",
   "nbconvert_exporter": "python",
   "pygments_lexer": "ipython3",
   "version": "3.13.1"
  }
 },
 "nbformat": 4,
 "nbformat_minor": 5
}
